{
 "cells": [
  {
   "cell_type": "code",
   "execution_count": null,
   "id": "b41fea9c",
   "metadata": {},
   "outputs": [],
   "source": [
    "#Importing required libraries\n",
    "import requests\n",
    "import csv\n",
    "import numpy as np\n",
    "import pandas as pd\n",
    "from datetime import date\n",
    "import glob\n",
    "import os\n",
    "import json\n",
    "import time"
   ]
  },
  {
   "cell_type": "code",
   "execution_count": null,
   "id": "40379ac2",
   "metadata": {},
   "outputs": [],
   "source": [
    "# Collecting Crime Data for each day and converting to CSV file\n",
    "\n",
    "\n",
    "crime_response = requests.get(\"https://phl.carto.com/api/v2/sql?filename=incidents_part1_part2&format=csv&q=SELECT%20*%20,%20ST_Y(the_geom)%20AS%20lat,%20ST_X(the_geom)%20AS%20lng%20FROM%20incidents_part1_part2%20WHERE%20dispatch_date_time%20%3E=%20%272022-01-01%27%20AND%20dispatch_date_time%20%3C%20%272023-01-01%27\")\n",
    "crime_text = crime_response.text.strip().split(\"\\n\")\n",
    "crime_reader = csv.reader(crime_text)\n",
    "crime_list=list(crime_reader)\n",
    "\n",
    "#REMOVING USELESS INFORMATION AND CLEANING ROWS\n",
    "\n",
    "\n",
    "newarr=[]\n",
    "for list_item in crime_list[1:]:\n",
    "    if list_item[14] == '' or list_item[15] == '' or list_item[16] =='' or list_item[17] == '':\n",
    "        continue\n",
    "    else:\n",
    "        newarr.append(list_item)\n",
    "headings = crime_list[:1][0]\n",
    "newarr.insert(0,headings)\n",
    "df = pd.DataFrame(newarr[1:], columns=headings)\n",
    "\n",
    "df.drop(['the_geom','cartodb_id','the_geom_webmercator','objectid','dc_dist','psa','dispatch_date_time','dc_key','ucr_general','point_x','point_y'], axis = 1, inplace = True)\n",
    "today = date.today()\n",
    "d1 = today.strftime(\"%d/%m/%Y\")\n",
    "fileName = str(d1) + \".csv\"\n",
    "df.to_csv(\"./Crime/11-24-22.csv\")"
   ]
  },
  {
   "cell_type": "code",
   "execution_count": null,
   "id": "e0b716c0",
   "metadata": {},
   "outputs": [],
   "source": [
    "#list all csv files only\n",
    "csv_files = glob.glob('*.{}'.format('csv'))\n",
    "csv_files"
   ]
  },
  {
   "cell_type": "code",
   "execution_count": null,
   "id": "c266d23c",
   "metadata": {},
   "outputs": [],
   "source": [
    "#Reading all the csv files and appending to a dataframe\n",
    "\n",
    "df_append = pd.DataFrame()\n",
    "#append all files together\n",
    "for file in csv_files[:-1]:\n",
    "            df_temp = pd.read_csv(file)\n",
    "            df_append = df_append.append(df_temp, ignore_index=True)\n",
    "df_append"
   ]
  },
  {
   "cell_type": "code",
   "execution_count": null,
   "id": "857918f4",
   "metadata": {},
   "outputs": [],
   "source": [
    "#Dropping duplicate elements and columns\n",
    "df_append = df_append.drop_duplicates()\n",
    "df_append = df_append.drop(['Unnamed: 0','hour_'],axis=1)"
   ]
  },
  {
   "cell_type": "code",
   "execution_count": null,
   "id": "e99a0ea5",
   "metadata": {},
   "outputs": [],
   "source": [
    "#Sorting the dataframe based on the date the crime happened\n",
    "df_append = df_append.sort_values(by=['dispatch_date'],ignore_index=True)\n",
    "df_append"
   ]
  },
  {
   "cell_type": "code",
   "execution_count": null,
   "id": "376d6ec2",
   "metadata": {},
   "outputs": [],
   "source": [
    "#Converting Dataframe to csv file\n",
    "\n",
    "df_append.to_csv(\"Cleaned-Crime.csv\")"
   ]
  },
  {
   "cell_type": "code",
   "execution_count": null,
   "id": "67f185b7",
   "metadata": {},
   "outputs": [],
   "source": [
    "#Reading Crime Dataset\n",
    "\n",
    "csv_files = glob.glob('*.{}'.format('csv'))\n",
    "crimeDataFile = csv_files[-2]\n",
    "\n",
    "crimeData = pd.read_csv(crimeDataFile)\n",
    "\n",
    "requiredDates=list(set(crimeData['dispatch_date'].tolist()))\n",
    "requiredDates.sort()\n",
    "requiredDates"
   ]
  },
  {
   "cell_type": "code",
   "execution_count": null,
   "id": "30992a44",
   "metadata": {},
   "outputs": [],
   "source": [
    "#Collecting Weather Data\n",
    "\n",
    "weather_details = {}\n",
    "\n",
    "\n",
    "\n",
    "def get_weather(date):\n",
    "    \n",
    "    weather_response = requests.get('http://api.weatherapi.com/v1/history.json?key=2eec0b76d1b24fe28c5164334222511&q=Philadelphia&dt='+date)\n",
    "    weather_data = weather_response.json()\n",
    "    dailyForecast = weather_data['forecast']['forecastday'][0]['day']\n",
    "    astro = weather_data['forecast']['forecastday'][0]['astro']\n",
    "    hourlyForecast = weather_data['forecast']['forecastday'][0]['hour']\n",
    "    weather_details[date] = [dailyForecast,astro,hourlyForecast]\n",
    "        \n",
    "        \n",
    "    \n",
    "\n",
    "for date in requiredDates:\n",
    "    get_weather(date)\n",
    "    \n",
    "weather_details"
   ]
  },
  {
   "cell_type": "code",
   "execution_count": null,
   "id": "fb941fa1",
   "metadata": {},
   "outputs": [],
   "source": [
    "updated_weather_details={}\n",
    "for i in weather_details:\n",
    "    item = weather_details[i]\n",
    "    dailyForecast = item[0]\n",
    "    astro = item[1]\n",
    "    hourlyForecast = item[2]\n",
    "    \n",
    "    #Daily Forecast\n",
    "    maxtemp_f = dailyForecast['maxtemp_f']\n",
    "    mintemp_f = dailyForecast['mintemp_f']\n",
    "    avgtemp_f = dailyForecast['avgtemp_f']\n",
    "    maxwind_mph = dailyForecast['maxwind_mph']\n",
    "    avghumidity = dailyForecast['avghumidity']\n",
    "    totalprecip_mm = dailyForecast['totalprecip_mm']\n",
    "    condition = dailyForecast['condition']['text']\n",
    "    \n",
    "    forecastDict = {'maxTemp' : maxtemp_f,\n",
    "                'minTemp' : mintemp_f,\n",
    "                'avgTemp' : avgtemp_f,\n",
    "                'maxWind' : maxwind_mph,\n",
    "                'avgHumidity' : avghumidity,\n",
    "                'totalPrecipitation':totalprecip_mm,\n",
    "                'condition': condition\n",
    "               }\n",
    "    \n",
    "    \n",
    "    #Astro\n",
    "    sunrise = astro['sunrise']\n",
    "    sunset = astro['sunset']\n",
    "    moonrise = astro['moonrise']\n",
    "    moonset = astro['moonset']\n",
    "    moonphase = astro['moon_phase']\n",
    "    \n",
    "    astroDict = {\n",
    "            'sunrise' : sunrise,\n",
    "            'sunset' : sunset,\n",
    "            'moonrise' : moonrise,\n",
    "            'moonset' : moonset,\n",
    "            'moonphase' : moonphase\n",
    "    } \n",
    "    \n",
    "    #Hourly Forecast\n",
    "    \n",
    "    updated_weather_details[i] = [forecastDict, astroDict,hourlyForecast]\n",
    "\n",
    "    \n",
    "updated_weather_details  \n",
    "    "
   ]
  },
  {
   "cell_type": "code",
   "execution_count": null,
   "id": "510b3fb8",
   "metadata": {},
   "outputs": [],
   "source": [
    "weather = pd.DataFrame()\n",
    "# stockDF = pd.DataFrame(columns)\n",
    "\n",
    "\n",
    "df = pd.DataFrame(crimeData)\n",
    "time = df['dispatch_time'].tolist()\n",
    "headings = ['Temperature','Maximum Temperature', 'Average Temperature','Maximum Wind','Average Humidity','Total Precipitation', 'Condition','Sunrise', 'Sunset','Moonrise','Moonset','Moon Phase']\n",
    "\n",
    "weather = pd.DataFrame(columns=headings)\n",
    "\n",
    "for j, ele in enumerate(crimeData['dispatch_date']):\n",
    "    \n",
    "    weather_info = updated_weather_details[ele]\n",
    "    \n",
    "    daily = weather_info[0]\n",
    "    astro = weather_info[1]\n",
    "    hourly = weather_info[2]\n",
    "    time = int(crimeData.iloc[j]['dispatch_time'][:2])\n",
    "    \n",
    "    todayData = hourly[time]\n",
    "    \n",
    "    temp = todayData['temp_f']\n",
    "    \n",
    "    \n",
    "    \n",
    "    \n",
    "    values = {'Temperature' : temp\n",
    "              ,'Maximum Temperature' : daily['maxTemp'],\n",
    "              'Average Temperature' : daily['avgTemp'],\n",
    "              'Maximum Wind' : daily['maxWind'],\n",
    "              'Average Humidity' : daily['avgHumidity'],\n",
    "              'Total Precipitation' : daily['totalPrecipitation'],\n",
    "              'Condition' : todayData['condition']['text'],\n",
    "              'Sunrise' : astro['sunrise'],\n",
    "              'Sunset' : astro['sunset'],\n",
    "              'Moonrise' : astro['moonrise'],\n",
    "              'Moonset' : astro['moonset'],\n",
    "              'Moon Phase' : astro['moonphase']\n",
    "             }\n",
    "\n",
    "    information = pd.DataFrame([values],columns=headings)\n",
    "    weather = weather.append(information,ignore_index = True)\n",
    "    \n",
    "\n",
    "weather"
   ]
  },
  {
   "cell_type": "code",
   "execution_count": null,
   "id": "3a29e4f8",
   "metadata": {},
   "outputs": [],
   "source": [
    "weather.to_csv(\"Weather.csv\")"
   ]
  },
  {
   "cell_type": "code",
   "execution_count": null,
   "id": "70549537",
   "metadata": {},
   "outputs": [],
   "source": [
    "#Merging Crime and Weather Data\n",
    "\n",
    "weatherData = pd.read_csv(\"Weather.csv\")\n",
    "crimeWeather = pd.concat([crimeData, weatherData], axis=1)\n",
    "\n",
    "\n",
    "crimeWeather = crimeWeather.drop(['Unnamed: 0'],axis=1)\n",
    "crimeWeather[:10]"
   ]
  },
  {
   "cell_type": "code",
   "execution_count": null,
   "id": "33ed4b4d",
   "metadata": {},
   "outputs": [],
   "source": [
    "crimeWeather.to_csv(\"Crime-Weather.csv\")"
   ]
  },
  {
   "cell_type": "code",
   "execution_count": null,
   "id": "349febf2",
   "metadata": {},
   "outputs": [],
   "source": [
    "#Stock Market Data\n",
    "\n",
    "dailyData = []\n",
    "# url = 'https://api.twelvedata.com/time_series?symbol=AAPL,EUR/USD,ETH/BTC:Huobi,TRP:TSX&interval=1day&apikey=fc815ba85f984ee3bca4d9d1dd6d8524'\n",
    "url = 'https://api.twelvedata.com/time_series?&start_date=2022-01-01&end_date=2022-11-23&symbol=aapl&interval=1day&apikey=fc815ba85f984ee3bca4d9d1dd6d8524'\n"
   ]
  },
  {
   "cell_type": "code",
   "execution_count": null,
   "id": "cb42af49",
   "metadata": {},
   "outputs": [],
   "source": [
    "stockData = requests.get(url).json()\n",
    "# stockData\n",
    "dailyData =  stockData['values']\n",
    "sortedData = sorted(dailyData, key=lambda d: d['datetime']) \n",
    "sortedData"
   ]
  },
  {
   "cell_type": "code",
   "execution_count": null,
   "id": "186eae17",
   "metadata": {},
   "outputs": [],
   "source": [
    "\n",
    "#Holiday Data\n",
    "\n",
    "\n",
    "holidayUrl = 'https://holidayapi.com/v1/holidays?pretty&key=e1df5793-02a5-4982-bf6d-df30497e8305&country=US&year=2021'\n"
   ]
  },
  {
   "cell_type": "code",
   "execution_count": null,
   "id": "bbeb168a",
   "metadata": {},
   "outputs": [],
   "source": [
    "holidayResponse = requests.get(holidayUrl).json()"
   ]
  },
  {
   "cell_type": "code",
   "execution_count": null,
   "id": "b0cae7ac",
   "metadata": {},
   "outputs": [],
   "source": [
    "holidays = holidayResponse['holidays']\n",
    "\n",
    "holidays\n",
    "\n",
    "def filteredHolidays(holiday):\n",
    "        \n",
    "    date = holiday['date']\n",
    "    dateArray = date.split(\"-\")\n",
    "    year = int(dateArray[0])+1\n",
    "    newDate = str(year)+'-'+dateArray[1]+'-'+dateArray[2]\n",
    "    public = \"NOT A PUBLIC HOLIDAY\"\n",
    "    \n",
    "    if(holiday['public']==True):\n",
    "        public = \"PUBLIC HOLIDAY\"\n",
    "        \n",
    "        \n",
    "    updatedHolidays = {\n",
    "        'Holiday' : holiday['name'],\n",
    "        'Date' : newDate,\n",
    "        'Public Holiday' : public,\n",
    "    }\n",
    "    \n",
    "    return updatedHolidays\n",
    "\n",
    "updatedHolidays = map(filteredHolidays,holidays)\n",
    "\n",
    "updatedHolidays = list(updatedHolidays)"
   ]
  },
  {
   "cell_type": "code",
   "execution_count": null,
   "id": "9232eed8",
   "metadata": {},
   "outputs": [],
   "source": [
    "holidayDataFrame = pd.DataFrame(updatedHolidays)\n",
    "\n",
    "holidayDataFrame = holidayDataFrame[:-1]\n",
    "# holidayDataFrame\n",
    "updatedHolidays"
   ]
  },
  {
   "cell_type": "code",
   "execution_count": null,
   "id": "fefb3197",
   "metadata": {},
   "outputs": [],
   "source": [
    "#Getting only stock dates as an array\n",
    "\n",
    "def stock_dates(stock_dict):\n",
    "    return stock_dict['datetime']\n",
    "    \n",
    "    \n",
    "    \n",
    "stockDates = list(map(stock_dates,sortedData))\n",
    "stockDates"
   ]
  },
  {
   "cell_type": "code",
   "execution_count": null,
   "id": "9b39a83e",
   "metadata": {},
   "outputs": [],
   "source": [
    "#Getting only Holiday Dates as an array\n",
    "\n",
    "def holiday_dates(holidayDict):\n",
    "    return holidayDict['Date']\n",
    "\n",
    "holidayDates = list(map(holiday_dates,updatedHolidays))\n",
    "holidayDates"
   ]
  },
  {
   "cell_type": "code",
   "execution_count": null,
   "id": "bb72e3e5",
   "metadata": {},
   "outputs": [],
   "source": [
    "#Getting a certain dictionary from stock data\n",
    "\n",
    "def get_stock_dict(d):\n",
    "    \n",
    "    for data in sortedData:\n",
    "        if data['datetime'] == str(d):\n",
    "            return data\n",
    "        else:\n",
    "            continue\n",
    "    \n",
    "    dict = {\n",
    "                'datetime':str(d),\n",
    "                'open':0,\n",
    "                'high':0,\n",
    "                'low':0,\n",
    "                'close':0,\n",
    "                'volume':0\n",
    "            }\n",
    "    return dict\n",
    "get_stock_dict('2022-01-05')"
   ]
  },
  {
   "cell_type": "code",
   "execution_count": null,
   "id": "b1131f6b",
   "metadata": {},
   "outputs": [],
   "source": [
    "#Getting a certain dictionary from  holidays\n",
    "\n",
    "def get_holiday_Data(d):\n",
    "    \n",
    "    for data in updatedHolidays:\n",
    "        if data['Date'] == str(d):\n",
    "            return data\n",
    "        else:\n",
    "            continue\n",
    "            \n",
    "    value = {'Holiday': \"NOT A HOLIDAY\",\n",
    "              'Date': str(d),\n",
    "             'Public Holiday': 'NOT A HOLIDAY'\n",
    "                    }\n",
    "    return value\n",
    "get_holiday_Data('2022-01-13')"
   ]
  },
  {
   "cell_type": "code",
   "execution_count": null,
   "id": "9df5f2de",
   "metadata": {},
   "outputs": [],
   "source": [
    "crimeWeather = pd.read_csv(\"Crime-Weather.csv\")\n",
    "crimeWeather = crimeWeather.drop(['Unnamed: 0'],axis=1)\n",
    "\n",
    "holidayHeading = ['Holiday','Date','Public Holiday']\n",
    "stockHeading = ['datetime','open','high','low','close','volume']\n",
    "stockDF = pd.DataFrame(columns = stockHeading)\n",
    "holidayDF = pd.DataFrame(columns = holidayHeading)\n",
    "for j, ele in enumerate(crimeData['dispatch_date']):\n",
    "\n",
    "    stockValue = get_stock_dict(ele)\n",
    "    stock_temp = pd.DataFrame([stockValue],columns = stockHeading)\n",
    "    \n",
    "    stockDF = stockDF.append(stock_temp,ignore_index=True)\n",
    "#     pd.concat([stockDF,stock_temp],ignore_index = True)\n",
    "\n",
    "stockDF\n"
   ]
  },
  {
   "cell_type": "code",
   "execution_count": null,
   "id": "13480a9d",
   "metadata": {},
   "outputs": [],
   "source": [
    "for j, ele in enumerate(crimeData['dispatch_date']):\n",
    "    \n",
    "    holidayValue = get_holiday_Data(ele)\n",
    "    holiday_temp = pd.DataFrame([holidayValue],columns = holidayHeading)\n",
    "    holidayDF = holidayDF.append(holiday_temp,ignore_index=True)\n",
    "\n",
    "holidayDF"
   ]
  },
  {
   "cell_type": "code",
   "execution_count": null,
   "id": "4113df6c",
   "metadata": {},
   "outputs": [],
   "source": [
    "stockDF.to_csv(\"Stock.csv\")"
   ]
  },
  {
   "cell_type": "code",
   "execution_count": null,
   "id": "7a01debf",
   "metadata": {},
   "outputs": [],
   "source": [
    "holidayDF.to_csv(\"Holiday.csv\")"
   ]
  },
  {
   "cell_type": "code",
   "execution_count": null,
   "id": "6341cbd7",
   "metadata": {},
   "outputs": [],
   "source": [
    "#Merging Crime-Weather, Stock and Holiday Dataset\n",
    "\n",
    "\n",
    "finalCW = pd.read_csv(\"Crime-Weather.csv\")\n",
    "holidayCSV = pd.read_csv(\"Holiday.csv\")\n",
    "stockCSV = pd.read_csv(\"Stock.csv\")\n",
    "mergedDataset = pd.concat([finalCW, holidayCSV,stockCSV], axis=1)\n",
    "\n",
    "mergedDataset = mergedDataset.drop(['Unnamed: 0','datetime','Date'],axis=1)\n",
    "my_list = mergedDataset.columns.values.tolist()\n",
    "# mergedDataset[:10]\n",
    "my_list"
   ]
  },
  {
   "cell_type": "code",
   "execution_count": null,
   "id": "13352553",
   "metadata": {},
   "outputs": [],
   "source": [
    "#Renaming columns\n",
    "updated_columns = {'dispatch_date':'Date', \n",
    "                   'dispatch_time':'Dispatch Time',\n",
    "                   'location_block':'Location',\n",
    "                   'text_general_code' : 'Offense',\n",
    "                    'lat' : 'Latitude',\n",
    "                   'lng' : 'Longitude',\n",
    "                   'open' : 'Open',\n",
    "                   'high': 'High',\n",
    "                   'low' : 'Low',\n",
    "                   'close' : 'Close',\n",
    "                   'volume' : 'Volume'\n",
    "                  \n",
    "                  }\n",
    "mergedDataset.rename(columns =updated_columns , inplace = True)\n",
    "\n"
   ]
  },
  {
   "cell_type": "code",
   "execution_count": null,
   "id": "79db959d",
   "metadata": {},
   "outputs": [],
   "source": [
    "mergedDataset[:100]"
   ]
  },
  {
   "cell_type": "code",
   "execution_count": null,
   "id": "d754bf41",
   "metadata": {},
   "outputs": [],
   "source": [
    "#Converting dataframe to CSV\n",
    "\n",
    "\n",
    "mergedDataset.to_csv(\"Final Dataset.csv\")"
   ]
  },
  {
   "cell_type": "code",
   "execution_count": null,
   "id": "68ee30ee",
   "metadata": {},
   "outputs": [],
   "source": []
  }
 ],
 "metadata": {
  "kernelspec": {
   "display_name": "Python 3.10.7 64-bit",
   "language": "python",
   "name": "python3"
  },
  "language_info": {
   "codemirror_mode": {
    "name": "ipython",
    "version": 3
   },
   "file_extension": ".py",
   "mimetype": "text/x-python",
   "name": "python",
   "nbconvert_exporter": "python",
   "pygments_lexer": "ipython3",
   "version": "3.10.7"
  },
  "vscode": {
   "interpreter": {
    "hash": "fa1ae470b8d61c4ab27f63378bf9bf72f7a68f62cf7ef07ec53e49081efceb6b"
   }
  }
 },
 "nbformat": 4,
 "nbformat_minor": 5
}
